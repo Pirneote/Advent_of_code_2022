{
 "cells": [
  {
   "cell_type": "code",
   "execution_count": 224,
   "id": "8ac3587d-39e8-4633-a2f5-12179483be19",
   "metadata": {},
   "outputs": [],
   "source": [
    "#IMPORT PACKAGES\n",
    "import sys\n",
    "import os\n",
    "import glob\n",
    "from io import StringIO\n",
    "import numpy as np\n",
    "import pandas as pd\n",
    "import matplotlib.pyplot as plt\n",
    "import seaborn as sns"
   ]
  },
  {
   "cell_type": "markdown",
   "id": "72a3b366-9b2b-433e-befb-ad60f2d88189",
   "metadata": {},
   "source": [
    "# Advent of Code 2022"
   ]
  },
  {
   "cell_type": "markdown",
   "id": "c29f6803-8668-4fe1-b173-450220714c13",
   "metadata": {
    "jp-MarkdownHeadingCollapsed": true,
    "tags": []
   },
   "source": [
    "## Day 1"
   ]
  },
  {
   "cell_type": "code",
   "execution_count": 195,
   "id": "bc564f48-e060-48db-88c0-acfa58821d22",
   "metadata": {},
   "outputs": [
    {
     "name": "stdout",
     "output_type": "stream",
     "text": [
      "70720\n"
     ]
    }
   ],
   "source": [
    "with open('/cluster/nrsw_lab/2392267/Data/AdventCodeCalendar/CaloriesElves.txt','r') as nD:\n",
    "    lines = nD.readlines()\n",
    "lastRow = lines[-1] \n",
    "\n",
    "x = 0\n",
    "calories_sum = []\n",
    "with open('/cluster/nrsw_lab/2392267/Data/AdventCodeCalendar/CaloriesElves.txt','r') as nD: \n",
    "    for line in nD:\n",
    "        if line in ['\\n','\\r\\n']: \n",
    "            calories_sum.append(x)\n",
    "            x=0\n",
    "        elif line == lastRow:\n",
    "            calories_sum.append(x)\n",
    "        else:\n",
    "            x += int(line)\n",
    "            \n",
    "print(max(calories_sum))  "
   ]
  },
  {
   "cell_type": "code",
   "execution_count": 199,
   "id": "71a00c32-8f99-47e4-aab3-cd1158ee3fa3",
   "metadata": {},
   "outputs": [
    {
     "name": "stdout",
     "output_type": "stream",
     "text": [
      "[70720, 68508, 67920]\n",
      "207148\n"
     ]
    }
   ],
   "source": [
    "print(sorted(calories_sum, reverse=True)[:3])\n",
    "print(sum(sorted(calories_sum, reverse=True)[:3]))"
   ]
  },
  {
   "cell_type": "markdown",
   "id": "7254fd50-b4ea-4473-bf42-ab53d4f03168",
   "metadata": {
    "jp-MarkdownHeadingCollapsed": true,
    "tags": []
   },
   "source": [
    "## Day 2"
   ]
  },
  {
   "cell_type": "code",
   "execution_count": 221,
   "id": "5e44c147-2206-4578-96c3-4060c4c93662",
   "metadata": {},
   "outputs": [
    {
     "name": "stdout",
     "output_type": "stream",
     "text": [
      "13005\n"
     ]
    }
   ],
   "source": [
    "data = pd.read_csv('/cluster/nrsw_lab/2392267/Data/AdventCodeCalendar/strategy_guide.txt', header=None, sep=' ', names=['Opponent','Me'])\n",
    "\n",
    "score = {'X':1,\n",
    "         'Y':2, \n",
    "         'Z':3,\n",
    "        'lose':0,\n",
    "        'draw':3,\n",
    "        'win':6}\n",
    "\n",
    "game_matrix = {'A-X':'draw',\n",
    "              'A-Y':'win',\n",
    "              'A-Z':'lose',\n",
    "              'B-X':'lose',\n",
    "              'B-Y':'draw',\n",
    "              'B-Z':'win',\n",
    "              'C-X':'win',\n",
    "              'C-Y':'lose',\n",
    "              'C-Z':'draw'}\n",
    "\n",
    "score_tot = 0\n",
    "\n",
    "for index, row in data.iterrows():\n",
    "    combi = data.loc[index,'Opponent']+'-'+data.loc[index,'Me']\n",
    "    if game_matrix[combi] == 'win':\n",
    "        score_tot += score['win']\n",
    "        if 'X' in combi:\n",
    "            score_tot += score['X']\n",
    "        elif 'Y' in combi:\n",
    "            score_tot += score['Y']\n",
    "        elif 'Z' in combi:\n",
    "            score_tot += score['Z']\n",
    "            \n",
    "    elif game_matrix[combi] == 'draw':\n",
    "        score_tot += score['draw']\n",
    "        if 'X' in combi:\n",
    "            score_tot += score['X']\n",
    "        elif 'Y' in combi:\n",
    "            score_tot += score['Y']\n",
    "        elif 'Z' in combi:\n",
    "            score_tot += score['Z']\n",
    "            \n",
    "    elif game_matrix[combi] == 'lose':\n",
    "        score_tot += score['lose']\n",
    "        if 'X' in combi:\n",
    "            score_tot += score['X']\n",
    "        elif 'Y' in combi:\n",
    "            score_tot += score['Y']\n",
    "        elif 'Z' in combi:\n",
    "            score_tot += score['Z']\n",
    "    \n",
    "print(score_tot)"
   ]
  },
  {
   "cell_type": "code",
   "execution_count": 223,
   "id": "effeb152-9e83-4a9e-9492-90e8f8a32dd2",
   "metadata": {},
   "outputs": [
    {
     "name": "stdout",
     "output_type": "stream",
     "text": [
      "11373\n"
     ]
    }
   ],
   "source": [
    "score = {'A':1,\n",
    "         'B':2, \n",
    "         'C':3,\n",
    "        'lose':0,\n",
    "        'draw':3,\n",
    "        'win':6}\n",
    "\n",
    "score_tot = 0\n",
    "\n",
    "for index, row in data.iterrows():\n",
    "    combi = data.loc[index,'Opponent']+'-'+data.loc[index,'Me']\n",
    "    if 'X' in combi:\n",
    "        score_tot += score['lose']\n",
    "        if 'A' in combi:\n",
    "            score_tot += score['C']\n",
    "        elif 'B' in combi:\n",
    "            score_tot += score['A']\n",
    "        elif 'C' in combi:\n",
    "            score_tot += score['B']\n",
    "            \n",
    "    elif 'Y' in combi:\n",
    "        score_tot += score['draw']\n",
    "        if 'A' in combi:\n",
    "            score_tot += score['A']\n",
    "        elif 'B' in combi:\n",
    "            score_tot += score['B']\n",
    "        elif 'C' in combi:\n",
    "            score_tot += score['C']\n",
    "            \n",
    "    elif 'Z' in combi:\n",
    "        score_tot += score['win']\n",
    "        if 'A' in combi:\n",
    "            score_tot += score['B']\n",
    "        elif 'B' in combi:\n",
    "            score_tot += score['C']\n",
    "        elif 'C' in combi:\n",
    "            score_tot += score['A']\n",
    "\n",
    "print(score_tot)"
   ]
  },
  {
   "cell_type": "markdown",
   "id": "c024769c-90fc-40b1-9ad0-3c82dfc09519",
   "metadata": {},
   "source": [
    "## Day 3"
   ]
  },
  {
   "cell_type": "code",
   "execution_count": null,
   "id": "8e950e07-554c-4697-946d-c6690c10e678",
   "metadata": {},
   "outputs": [],
   "source": []
  },
  {
   "cell_type": "code",
   "execution_count": null,
   "id": "0aa570d5-5f5a-4204-af85-255ab514d693",
   "metadata": {},
   "outputs": [],
   "source": []
  },
  {
   "cell_type": "code",
   "execution_count": null,
   "id": "172aab8d-b287-4b47-b255-343f150840b4",
   "metadata": {},
   "outputs": [],
   "source": []
  }
 ],
 "metadata": {
  "kernelspec": {
   "display_name": "Python [conda env:conda-my_env]",
   "language": "python",
   "name": "conda-env-conda-my_env-py"
  },
  "language_info": {
   "codemirror_mode": {
    "name": "ipython",
    "version": 3
   },
   "file_extension": ".py",
   "mimetype": "text/x-python",
   "name": "python",
   "nbconvert_exporter": "python",
   "pygments_lexer": "ipython3",
   "version": "3.9.7"
  }
 },
 "nbformat": 4,
 "nbformat_minor": 5
}
