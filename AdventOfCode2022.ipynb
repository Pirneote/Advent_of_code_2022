{
 "cells": [
  {
   "cell_type": "code",
   "execution_count": 4,
   "id": "8ac3587d-39e8-4633-a2f5-12179483be19",
   "metadata": {},
   "outputs": [],
   "source": [
    "#IMPORT PACKAGES\n",
    "import sys\n",
    "import os\n",
    "import glob\n",
    "import string\n",
    "from io import StringIO\n",
    "import numpy as np\n",
    "import pandas as pd\n",
    "import matplotlib.pyplot as plt\n",
    "import seaborn as sns"
   ]
  },
  {
   "cell_type": "markdown",
   "id": "72a3b366-9b2b-433e-befb-ad60f2d88189",
   "metadata": {},
   "source": [
    "# Advent of Code 2022"
   ]
  },
  {
   "cell_type": "markdown",
   "id": "c29f6803-8668-4fe1-b173-450220714c13",
   "metadata": {
    "jp-MarkdownHeadingCollapsed": true,
    "tags": []
   },
   "source": [
    "## Day 1"
   ]
  },
  {
   "cell_type": "code",
   "execution_count": 195,
   "id": "bc564f48-e060-48db-88c0-acfa58821d22",
   "metadata": {},
   "outputs": [
    {
     "name": "stdout",
     "output_type": "stream",
     "text": [
      "70720\n"
     ]
    }
   ],
   "source": [
    "with open('/cluster/nrsw_lab/2392267/Data/AdventCodeCalendar/CaloriesElves.txt','r') as nD:\n",
    "    lines = nD.readlines()\n",
    "lastRow = lines[-1] \n",
    "\n",
    "x = 0\n",
    "calories_sum = []\n",
    "with open('/cluster/nrsw_lab/2392267/Data/AdventCodeCalendar/CaloriesElves.txt','r') as nD: \n",
    "    for line in nD:\n",
    "        if line in ['\\n','\\r\\n']: \n",
    "            calories_sum.append(x)\n",
    "            x=0\n",
    "        elif line == lastRow:\n",
    "            calories_sum.append(x)\n",
    "        else:\n",
    "            x += int(line)\n",
    "            \n",
    "print(max(calories_sum))  "
   ]
  },
  {
   "cell_type": "code",
   "execution_count": 199,
   "id": "71a00c32-8f99-47e4-aab3-cd1158ee3fa3",
   "metadata": {},
   "outputs": [
    {
     "name": "stdout",
     "output_type": "stream",
     "text": [
      "[70720, 68508, 67920]\n",
      "207148\n"
     ]
    }
   ],
   "source": [
    "print(sorted(calories_sum, reverse=True)[:3])\n",
    "print(sum(sorted(calories_sum, reverse=True)[:3]))"
   ]
  },
  {
   "cell_type": "markdown",
   "id": "7254fd50-b4ea-4473-bf42-ab53d4f03168",
   "metadata": {
    "jp-MarkdownHeadingCollapsed": true,
    "tags": []
   },
   "source": [
    "## Day 2"
   ]
  },
  {
   "cell_type": "code",
   "execution_count": 221,
   "id": "5e44c147-2206-4578-96c3-4060c4c93662",
   "metadata": {},
   "outputs": [
    {
     "name": "stdout",
     "output_type": "stream",
     "text": [
      "13005\n"
     ]
    }
   ],
   "source": [
    "data = pd.read_csv('/cluster/nrsw_lab/2392267/Data/AdventCodeCalendar/strategy_guide.txt', header=None, sep=' ', names=['Opponent','Me'])\n",
    "\n",
    "score = {'X':1,\n",
    "         'Y':2, \n",
    "         'Z':3,\n",
    "        'lose':0,\n",
    "        'draw':3,\n",
    "        'win':6}\n",
    "\n",
    "game_matrix = {'A-X':'draw',\n",
    "              'A-Y':'win',\n",
    "              'A-Z':'lose',\n",
    "              'B-X':'lose',\n",
    "              'B-Y':'draw',\n",
    "              'B-Z':'win',\n",
    "              'C-X':'win',\n",
    "              'C-Y':'lose',\n",
    "              'C-Z':'draw'}\n",
    "\n",
    "score_tot = 0\n",
    "\n",
    "for index, row in data.iterrows():\n",
    "    combi = data.loc[index,'Opponent']+'-'+data.loc[index,'Me']\n",
    "    if game_matrix[combi] == 'win':\n",
    "        score_tot += score['win']\n",
    "        if 'X' in combi:\n",
    "            score_tot += score['X']\n",
    "        elif 'Y' in combi:\n",
    "            score_tot += score['Y']\n",
    "        elif 'Z' in combi:\n",
    "            score_tot += score['Z']\n",
    "            \n",
    "    elif game_matrix[combi] == 'draw':\n",
    "        score_tot += score['draw']\n",
    "        if 'X' in combi:\n",
    "            score_tot += score['X']\n",
    "        elif 'Y' in combi:\n",
    "            score_tot += score['Y']\n",
    "        elif 'Z' in combi:\n",
    "            score_tot += score['Z']\n",
    "            \n",
    "    elif game_matrix[combi] == 'lose':\n",
    "        score_tot += score['lose']\n",
    "        if 'X' in combi:\n",
    "            score_tot += score['X']\n",
    "        elif 'Y' in combi:\n",
    "            score_tot += score['Y']\n",
    "        elif 'Z' in combi:\n",
    "            score_tot += score['Z']\n",
    "    \n",
    "print(score_tot)"
   ]
  },
  {
   "cell_type": "code",
   "execution_count": 223,
   "id": "effeb152-9e83-4a9e-9492-90e8f8a32dd2",
   "metadata": {},
   "outputs": [
    {
     "name": "stdout",
     "output_type": "stream",
     "text": [
      "11373\n"
     ]
    }
   ],
   "source": [
    "score = {'A':1,\n",
    "         'B':2, \n",
    "         'C':3,\n",
    "        'lose':0,\n",
    "        'draw':3,\n",
    "        'win':6}\n",
    "\n",
    "score_tot = 0\n",
    "\n",
    "for index, row in data.iterrows():\n",
    "    combi = data.loc[index,'Opponent']+'-'+data.loc[index,'Me']\n",
    "    if 'X' in combi:\n",
    "        score_tot += score['lose']\n",
    "        if 'A' in combi:\n",
    "            score_tot += score['C']\n",
    "        elif 'B' in combi:\n",
    "            score_tot += score['A']\n",
    "        elif 'C' in combi:\n",
    "            score_tot += score['B']\n",
    "            \n",
    "    elif 'Y' in combi:\n",
    "        score_tot += score['draw']\n",
    "        if 'A' in combi:\n",
    "            score_tot += score['A']\n",
    "        elif 'B' in combi:\n",
    "            score_tot += score['B']\n",
    "        elif 'C' in combi:\n",
    "            score_tot += score['C']\n",
    "            \n",
    "    elif 'Z' in combi:\n",
    "        score_tot += score['win']\n",
    "        if 'A' in combi:\n",
    "            score_tot += score['B']\n",
    "        elif 'B' in combi:\n",
    "            score_tot += score['C']\n",
    "        elif 'C' in combi:\n",
    "            score_tot += score['A']\n",
    "\n",
    "print(score_tot)"
   ]
  },
  {
   "cell_type": "markdown",
   "id": "c024769c-90fc-40b1-9ad0-3c82dfc09519",
   "metadata": {
    "jp-MarkdownHeadingCollapsed": true,
    "tags": []
   },
   "source": [
    "## Day 3"
   ]
  },
  {
   "cell_type": "code",
   "execution_count": 66,
   "id": "8e950e07-554c-4697-946d-c6690c10e678",
   "metadata": {},
   "outputs": [
    {
     "name": "stdout",
     "output_type": "stream",
     "text": [
      "8085\n"
     ]
    }
   ],
   "source": [
    "rucksacks =[]\n",
    "with open('/cluster/nrsw_lab/2392267/Data/AdventCodeCalendar/Rucksacks.txt','r') as rs:\n",
    "    for line in rs:\n",
    "        rucksacks.append(line.replace(\"\\n\", \"\"))\n",
    "\n",
    "values = np.arange(1,53)\n",
    "alphabet = list(string.ascii_lowercase)+list(string.ascii_uppercase)\n",
    "priority = dict(zip(alphabet, values))\n",
    "\n",
    "sum_priorities = 0 \n",
    "\n",
    "for i in rucksacks:\n",
    "    half = int(len(i)/2)\n",
    "    first_half = i[:half]\n",
    "    second_half = i[half:]\n",
    "    \n",
    "    count = 0\n",
    "    for x in first_half:\n",
    "        if (x in second_half) & (count == 0):\n",
    "            sum_priorities += priority[x]\n",
    "            count += 1\n",
    "        if count > 0:\n",
    "            sum_priorities = sum_priorities\n",
    "                \n",
    "print(sum_priorities) "
   ]
  },
  {
   "cell_type": "code",
   "execution_count": 99,
   "id": "95b3571a-0df3-4f0c-af25-bdcbcee290ce",
   "metadata": {},
   "outputs": [
    {
     "name": "stdout",
     "output_type": "stream",
     "text": [
      "2515\n"
     ]
    }
   ],
   "source": [
    "sum_priorities = 0\n",
    "\n",
    "for i in range(0, len(rucksacks), 3):\n",
    "    group = rucksacks[i:(i+3)]\n",
    "    \n",
    "    count = 0\n",
    "    for x in group[0]:\n",
    "        if (x in group[1]) & (x in group[2]) & (count == 0):\n",
    "            sum_priorities += priority[x]\n",
    "            count += 1\n",
    "        if count > 0:\n",
    "            sum_priorities = sum_priorities\n",
    "            \n",
    "            \n",
    "print(sum_priorities) "
   ]
  },
  {
   "cell_type": "markdown",
   "id": "1eb8bddc-e1b7-46a0-8f2f-e49fd36aaa79",
   "metadata": {
    "jp-MarkdownHeadingCollapsed": true,
    "tags": []
   },
   "source": [
    "## Day 4"
   ]
  },
  {
   "cell_type": "code",
   "execution_count": 142,
   "id": "4878d0e8-5c35-475a-8150-db3b4290c8cb",
   "metadata": {},
   "outputs": [
    {
     "name": "stdout",
     "output_type": "stream",
     "text": [
      "536\n"
     ]
    }
   ],
   "source": [
    "assignement =[]\n",
    "with open('/cluster/nrsw_lab/2392267/Data/AdventCodeCalendar/Section_assignment.txt','r') as rs:\n",
    "    for line in rs:\n",
    "        assignement.append(line.replace(\"\\n\", \"\"))\n",
    "\n",
    "count = 0\n",
    "for i in assignement:\n",
    "    pairs = i.split(\",\")\n",
    "    pair1 = list(map(int,pairs[0].split(\"-\")))\n",
    "    pair2 = list(map(int,pairs[1].split(\"-\")))\n",
    "    \n",
    "    if (pair1[0] >= pair2[0]) & (pair1[1] <= pair2[1]):\n",
    "        count += 1\n",
    "\n",
    "    elif (pair2[0] >= pair1[0]) & (pair2[1] <= pair1[1]):\n",
    "        count += 1\n",
    "print(count)"
   ]
  },
  {
   "cell_type": "code",
   "execution_count": 144,
   "id": "745d7b1f-b227-4723-8619-0f989b1d2a9d",
   "metadata": {},
   "outputs": [
    {
     "name": "stdout",
     "output_type": "stream",
     "text": [
      "845\n"
     ]
    }
   ],
   "source": [
    "count = 0\n",
    "for i in assignement:\n",
    "    pairs = i.split(\",\")\n",
    "    pair1 = list(map(int,pairs[0].split(\"-\")))\n",
    "    pair2 = list(map(int,pairs[1].split(\"-\")))\n",
    "    \n",
    "    if (pair1[0] >= pair2[0]) & (pair1[0] <= pair2[1]):\n",
    "        count += 1\n",
    "\n",
    "    elif (pair1[1] <= pair2[1]) & (pair1[1] >= pair2[0]):\n",
    "        count += 1\n",
    "        \n",
    "    elif (pair2[0] >= pair1[0]) & (pair2[0] <= pair1[1]):\n",
    "        count += 1\n",
    "        \n",
    "    elif (pair2[1] <= pair1[1]) & (pair2[1] >= pair1[0]):\n",
    "        count += 1\n",
    "print(count)"
   ]
  },
  {
   "cell_type": "markdown",
   "id": "b9dee645-224d-431b-acde-378dc5329137",
   "metadata": {
    "jp-MarkdownHeadingCollapsed": true,
    "tags": []
   },
   "source": [
    "## Day 5"
   ]
  },
  {
   "cell_type": "code",
   "execution_count": 110,
   "id": "0f1b8919-3326-4c13-96b8-6101b039d22a",
   "metadata": {},
   "outputs": [
    {
     "name": "stdout",
     "output_type": "stream",
     "text": [
      "FWNSHLDNZ\n"
     ]
    }
   ],
   "source": [
    "procedure = []\n",
    "with open('/cluster/nrsw_lab/2392267/Data/AdventCodeCalendar/CrateProcedure.txt','r') as file:\n",
    "    for line in file:\n",
    "        procedure.append(line.replace(\"\\n\", \"\"))\n",
    "        \n",
    "#Crate Layout = []\n",
    "l1 = ['D','M','S','Z','R','F','W','N']\n",
    "l2 = ['W','P','Q','G','S']\n",
    "l3 = ['W','R','V','Q','F','N','J','C']\n",
    "l4 = ['F','Z','P','C','G','D','L']\n",
    "l5 = ['T','P','S']\n",
    "l6 = ['H','D','F','W','R','L']\n",
    "l7 = ['Z','N','D','C']\n",
    "l8 = ['W','N','R','F','V','S','J','Q']\n",
    "l9 = ['R','M','S','G','Z','W','V']\n",
    "\n",
    "for i in procedure:\n",
    "    nb_move_start = 'move ;'\n",
    "    nb_move_end = ' from'\n",
    "    nb_move = int(i[i.find(nb_move_start)+len(nb_move_start):i.rfind(nb_move_end)])\n",
    "    sequence = np.arange(nb_move)\n",
    "    start_col_start = 'from '\n",
    "    start_col_end = ' to'\n",
    "    start_col = int(i[i.find(start_col_start)+len(start_col_start):i.rfind(start_col_end)])\n",
    "    end_col = int(i[-1])\n",
    "        \n",
    "    if start_col == 1:\n",
    "        for x in sequence:\n",
    "            crate = l1[-1]\n",
    "            l1 = l1[:-1]\n",
    "            if end_col == 1:\n",
    "                l1.append(crate)\n",
    "            elif end_col == 2:\n",
    "                l2.append(crate)\n",
    "            elif end_col == 3:\n",
    "                l3.append(crate) \n",
    "            elif end_col == 4:\n",
    "                l4.append(crate)             \n",
    "            elif end_col == 5:\n",
    "                l5.append(crate)             \n",
    "            elif end_col == 6:\n",
    "                l6.append(crate)             \n",
    "            elif end_col == 7:\n",
    "                l7.append(crate)\n",
    "            elif end_col == 8:\n",
    "                l8.append(crate)\n",
    "            elif end_col == 9:\n",
    "                l9.append(crate) \n",
    "    elif start_col == 2:\n",
    "        for x in sequence:\n",
    "            crate = l2[-1]\n",
    "            l2 = l2[:-1]\n",
    "            if end_col == 1:\n",
    "                l1.append(crate)\n",
    "            elif end_col == 2:\n",
    "                l2.append(crate)\n",
    "            elif end_col == 3:\n",
    "                l3.append(crate) \n",
    "            elif end_col == 4:\n",
    "                l4.append(crate)             \n",
    "            elif end_col == 5:\n",
    "                l5.append(crate)             \n",
    "            elif end_col == 6:\n",
    "                l6.append(crate)             \n",
    "            elif end_col == 7:\n",
    "                l7.append(crate)\n",
    "            elif end_col == 8:\n",
    "                l8.append(crate)\n",
    "            elif end_col == 9:\n",
    "                l9.append(crate) \n",
    "    elif start_col == 3:\n",
    "        for x in sequence:\n",
    "            crate = l3[-1]\n",
    "            l3 = l3[:-1]\n",
    "            if end_col == 1:\n",
    "                l1.append(crate)\n",
    "            elif end_col == 2:\n",
    "                l2.append(crate)\n",
    "            elif end_col == 3:\n",
    "                l3.append(crate) \n",
    "            elif end_col == 4:\n",
    "                l4.append(crate)             \n",
    "            elif end_col == 5:\n",
    "                l5.append(crate)             \n",
    "            elif end_col == 6:\n",
    "                l6.append(crate)             \n",
    "            elif end_col == 7:\n",
    "                l7.append(crate)\n",
    "            elif end_col == 8:\n",
    "                l8.append(crate)\n",
    "            elif end_col == 9:\n",
    "                l9.append(crate)             \n",
    "    elif start_col == 4:\n",
    "        for x in sequence:\n",
    "            crate = l4[-1]\n",
    "            l4 = l4[:-1]\n",
    "            if end_col == 1:\n",
    "                l1.append(crate)\n",
    "            elif end_col == 2:\n",
    "                l2.append(crate)\n",
    "            elif end_col == 3:\n",
    "                l3.append(crate) \n",
    "            elif end_col == 4:\n",
    "                l4.append(crate)             \n",
    "            elif end_col == 5:\n",
    "                l5.append(crate)             \n",
    "            elif end_col == 6:\n",
    "                l6.append(crate)             \n",
    "            elif end_col == 7:\n",
    "                l7.append(crate)\n",
    "            elif end_col == 8:\n",
    "                l8.append(crate)\n",
    "            elif end_col == 9:\n",
    "                l9.append(crate)             \n",
    "    elif start_col == 5:\n",
    "        for x in sequence:\n",
    "            crate = l5[-1]\n",
    "            l5 = l5[:-1]\n",
    "            if end_col == 1:\n",
    "                l1.append(crate)\n",
    "            elif end_col == 2:\n",
    "                l2.append(crate)\n",
    "            elif end_col == 3:\n",
    "                l3.append(crate) \n",
    "            elif end_col == 4:\n",
    "                l4.append(crate)             \n",
    "            elif end_col == 5:\n",
    "                l5.append(crate)             \n",
    "            elif end_col == 6:\n",
    "                l6.append(crate)             \n",
    "            elif end_col == 7:\n",
    "                l7.append(crate)\n",
    "            elif end_col == 8:\n",
    "                l8.append(crate)\n",
    "            elif end_col == 9:\n",
    "                l9.append(crate)             \n",
    "    elif start_col == 6:\n",
    "        for x in sequence:\n",
    "            crate = l6[-1]\n",
    "            l6 = l6[:-1]\n",
    "            if end_col == 1:\n",
    "                l1.append(crate)\n",
    "            elif end_col == 2:\n",
    "                l2.append(crate)\n",
    "            elif end_col == 3:\n",
    "                l3.append(crate) \n",
    "            elif end_col == 4:\n",
    "                l4.append(crate)             \n",
    "            elif end_col == 5:\n",
    "                l5.append(crate)             \n",
    "            elif end_col == 6:\n",
    "                l6.append(crate)             \n",
    "            elif end_col == 7:\n",
    "                l7.append(crate)\n",
    "            elif end_col == 8:\n",
    "                l8.append(crate)\n",
    "            elif end_col == 9:\n",
    "                l9.append(crate)             \n",
    "    elif start_col == 7:\n",
    "        for x in sequence:\n",
    "            crate = l7[-1]\n",
    "            l7 = l7[:-1]\n",
    "            if end_col == 1:\n",
    "                l1.append(crate)\n",
    "            elif end_col == 2:\n",
    "                l2.append(crate)\n",
    "            elif end_col == 3:\n",
    "                l3.append(crate) \n",
    "            elif end_col == 4:\n",
    "                l4.append(crate)             \n",
    "            elif end_col == 5:\n",
    "                l5.append(crate)             \n",
    "            elif end_col == 6:\n",
    "                l6.append(crate)             \n",
    "            elif end_col == 7:\n",
    "                l7.append(crate)\n",
    "            elif end_col == 8:\n",
    "                l8.append(crate)\n",
    "            elif end_col == 9:\n",
    "                l9.append(crate)\n",
    "    elif start_col == 8:\n",
    "        for x in sequence:\n",
    "            crate = l8[-1]\n",
    "            l8 = l8[:-1]\n",
    "            if end_col == 1:\n",
    "                l1.append(crate)\n",
    "            elif end_col == 2:\n",
    "                l2.append(crate)\n",
    "            elif end_col == 3:\n",
    "                l3.append(crate) \n",
    "            elif end_col == 4:\n",
    "                l4.append(crate)             \n",
    "            elif end_col == 5:\n",
    "                l5.append(crate)             \n",
    "            elif end_col == 6:\n",
    "                l6.append(crate)             \n",
    "            elif end_col == 7:\n",
    "                l7.append(crate)\n",
    "            elif end_col == 8:\n",
    "                l8.append(crate)\n",
    "            elif end_col == 9:\n",
    "                l9.append(crate) \n",
    "    elif start_col == 9:\n",
    "        for x in sequence:\n",
    "            crate = l9[-1]\n",
    "            l9 = l9[:-1]\n",
    "            if end_col == 1:\n",
    "                l1.append(crate)\n",
    "            elif end_col == 2:\n",
    "                l2.append(crate)\n",
    "            elif end_col == 3:\n",
    "                l3.append(crate) \n",
    "            elif end_col == 4:\n",
    "                l4.append(crate)             \n",
    "            elif end_col == 5:\n",
    "                l5.append(crate)             \n",
    "            elif end_col == 6:\n",
    "                l6.append(crate)             \n",
    "            elif end_col == 7:\n",
    "                l7.append(crate)\n",
    "            elif end_col == 8:\n",
    "                l8.append(crate)\n",
    "            elif end_col == 9:\n",
    "                l9.append(crate)             \n",
    "\n",
    "print(l1[-1]+l2[-1]+l3[-1]+l4[-1]+l5[-1]+l6[-1]+l7[-1]+l8[-1]+l9[-1])"
   ]
  },
  {
   "cell_type": "code",
   "execution_count": 144,
   "id": "2852556a-983d-4b80-8d6a-33fa9cd5e6ba",
   "metadata": {},
   "outputs": [
    {
     "name": "stdout",
     "output_type": "stream",
     "text": [
      "RNRGDNFQG\n"
     ]
    }
   ],
   "source": [
    "#Crate Layout = []\n",
    "l1 = ['D','M','S','Z','R','F','W','N']\n",
    "l2 = ['W','P','Q','G','S']\n",
    "l3 = ['W','R','V','Q','F','N','J','C']\n",
    "l4 = ['F','Z','P','C','G','D','L']\n",
    "l5 = ['T','P','S']\n",
    "l6 = ['H','D','F','W','R','L']\n",
    "l7 = ['Z','N','D','C']\n",
    "l8 = ['W','N','R','F','V','S','J','Q']\n",
    "l9 = ['R','M','S','G','Z','W','V']\n",
    "\n",
    "for i in procedure:\n",
    "    nb_move_start = 'move ;'\n",
    "    nb_move_end = ' from'\n",
    "    nb_move = int(i[i.find(nb_move_start)+len(nb_move_start):i.rfind(nb_move_end)])\n",
    "    start_col_start = 'from '\n",
    "    start_col_end = ' to'\n",
    "    start_col = int(i[i.find(start_col_start)+len(start_col_start):i.rfind(start_col_end)])\n",
    "    end_col = int(i[-1])\n",
    "    \n",
    "    if start_col == 1:\n",
    "        crate = l1[-nb_move:]\n",
    "        l1 = l1[:(len(l1)-nb_move)]\n",
    "        for crate in crate:\n",
    "            if end_col == 1:\n",
    "                l1.append(crate)\n",
    "            elif end_col == 2:\n",
    "                l2.append(crate)\n",
    "            elif end_col == 3:\n",
    "                l3.append(crate) \n",
    "            elif end_col == 4:\n",
    "                l4.append(crate)             \n",
    "            elif end_col == 5:\n",
    "                l5.append(crate)             \n",
    "            elif end_col == 6:\n",
    "                l6.append(crate)             \n",
    "            elif end_col == 7:\n",
    "                l7.append(crate)\n",
    "            elif end_col == 8:\n",
    "                l8.append(crate)\n",
    "            elif end_col == 9:\n",
    "                l9.append(crate)\n",
    "    if start_col == 2:\n",
    "        crate = l2[-nb_move:]\n",
    "        l2 = l2[:(len(l2)-nb_move)]\n",
    "        for crate in crate:\n",
    "            if end_col == 1:\n",
    "                l1.append(crate)\n",
    "            elif end_col == 2:\n",
    "                l2.append(crate)\n",
    "            elif end_col == 3:\n",
    "                l3.append(crate) \n",
    "            elif end_col == 4:\n",
    "                l4.append(crate)             \n",
    "            elif end_col == 5:\n",
    "                l5.append(crate)             \n",
    "            elif end_col == 6:\n",
    "                l6.append(crate)             \n",
    "            elif end_col == 7:\n",
    "                l7.append(crate)\n",
    "            elif end_col == 8:\n",
    "                l8.append(crate)\n",
    "            elif end_col == 9:\n",
    "                l9.append(crate)                  \n",
    "    if start_col == 3:\n",
    "        crate = l3[-nb_move:]\n",
    "        l3 = l3[:(len(l3)-nb_move)]\n",
    "        for crate in crate:\n",
    "            if end_col == 1:\n",
    "                l1.append(crate)\n",
    "            elif end_col == 2:\n",
    "                l2.append(crate)\n",
    "            elif end_col == 3:\n",
    "                l3.append(crate) \n",
    "            elif end_col == 4:\n",
    "                l4.append(crate)             \n",
    "            elif end_col == 5:\n",
    "                l5.append(crate)             \n",
    "            elif end_col == 6:\n",
    "                l6.append(crate)             \n",
    "            elif end_col == 7:\n",
    "                l7.append(crate)\n",
    "            elif end_col == 8:\n",
    "                l8.append(crate)\n",
    "            elif end_col == 9:\n",
    "                l9.append(crate)                                  \n",
    "    if start_col == 4:\n",
    "        crate = l4[-nb_move:]\n",
    "        l4 = l4[:(len(l4)-nb_move)]\n",
    "        for crate in crate:\n",
    "            if end_col == 1:\n",
    "                l1.append(crate)\n",
    "            elif end_col == 2:\n",
    "                l2.append(crate)\n",
    "            elif end_col == 3:\n",
    "                l3.append(crate) \n",
    "            elif end_col == 4:\n",
    "                l4.append(crate)             \n",
    "            elif end_col == 5:\n",
    "                l5.append(crate)             \n",
    "            elif end_col == 6:\n",
    "                l6.append(crate)             \n",
    "            elif end_col == 7:\n",
    "                l7.append(crate)\n",
    "            elif end_col == 8:\n",
    "                l8.append(crate)\n",
    "            elif end_col == 9:\n",
    "                l9.append(crate)                  \n",
    "    if start_col == 5:\n",
    "        crate = l5[-nb_move:]\n",
    "        l5 = l5[:(len(l5)-nb_move)]\n",
    "        for crate in crate:\n",
    "            if end_col == 1:\n",
    "                l1.append(crate)\n",
    "            elif end_col == 2:\n",
    "                l2.append(crate)\n",
    "            elif end_col == 3:\n",
    "                l3.append(crate) \n",
    "            elif end_col == 4:\n",
    "                l4.append(crate)             \n",
    "            elif end_col == 5:\n",
    "                l5.append(crate)             \n",
    "            elif end_col == 6:\n",
    "                l6.append(crate)             \n",
    "            elif end_col == 7:\n",
    "                l7.append(crate)\n",
    "            elif end_col == 8:\n",
    "                l8.append(crate)\n",
    "            elif end_col == 9:\n",
    "                l9.append(crate)                  \n",
    "    if start_col == 6:\n",
    "        crate = l6[-nb_move:]\n",
    "        l6 = l6[:(len(l6)-nb_move)]\n",
    "        for crate in crate:\n",
    "            if end_col == 1:\n",
    "                l1.append(crate)\n",
    "            elif end_col == 2:\n",
    "                l2.append(crate)\n",
    "            elif end_col == 3:\n",
    "                l3.append(crate) \n",
    "            elif end_col == 4:\n",
    "                l4.append(crate)             \n",
    "            elif end_col == 5:\n",
    "                l5.append(crate)             \n",
    "            elif end_col == 6:\n",
    "                l6.append(crate)             \n",
    "            elif end_col == 7:\n",
    "                l7.append(crate)\n",
    "            elif end_col == 8:\n",
    "                l8.append(crate)\n",
    "            elif end_col == 9:\n",
    "                l9.append(crate)                  \n",
    "    if start_col == 7:\n",
    "        crate = l7[-nb_move:]\n",
    "        l7 = l7[:(len(l7)-nb_move)]\n",
    "        for crate in crate:\n",
    "            if end_col == 1:\n",
    "                l1.append(crate)\n",
    "            elif end_col == 2:\n",
    "                l2.append(crate)\n",
    "            elif end_col == 3:\n",
    "                l3.append(crate) \n",
    "            elif end_col == 4:\n",
    "                l4.append(crate)             \n",
    "            elif end_col == 5:\n",
    "                l5.append(crate)             \n",
    "            elif end_col == 6:\n",
    "                l6.append(crate)             \n",
    "            elif end_col == 7:\n",
    "                l7.append(crate)\n",
    "            elif end_col == 8:\n",
    "                l8.append(crate)\n",
    "            elif end_col == 9:\n",
    "                l9.append(crate)                  \n",
    "    if start_col == 8:\n",
    "        crate = l8[-nb_move:]\n",
    "        l8 = l8[:(len(l8)-nb_move)]\n",
    "        for crate in crate:\n",
    "            if end_col == 1:\n",
    "                l1.append(crate)\n",
    "            elif end_col == 2:\n",
    "                l2.append(crate)\n",
    "            elif end_col == 3:\n",
    "                l3.append(crate) \n",
    "            elif end_col == 4:\n",
    "                l4.append(crate)             \n",
    "            elif end_col == 5:\n",
    "                l5.append(crate)             \n",
    "            elif end_col == 6:\n",
    "                l6.append(crate)             \n",
    "            elif end_col == 7:\n",
    "                l7.append(crate)\n",
    "            elif end_col == 8:\n",
    "                l8.append(crate)\n",
    "            elif end_col == 9:\n",
    "                l9.append(crate)                  \n",
    "    if start_col == 9:\n",
    "        crate = l9[-nb_move:]\n",
    "        l9 = l9[:(len(l9)-nb_move)]\n",
    "        for crate in crate:\n",
    "            if end_col == 1:\n",
    "                l1.append(crate)\n",
    "            elif end_col == 2:\n",
    "                l2.append(crate)\n",
    "            elif end_col == 3:\n",
    "                l3.append(crate) \n",
    "            elif end_col == 4:\n",
    "                l4.append(crate)             \n",
    "            elif end_col == 5:\n",
    "                l5.append(crate)             \n",
    "            elif end_col == 6:\n",
    "                l6.append(crate)             \n",
    "            elif end_col == 7:\n",
    "                l7.append(crate)\n",
    "            elif end_col == 8:\n",
    "                l8.append(crate)\n",
    "            elif end_col == 9:\n",
    "                l9.append(crate)                  \n",
    "\n",
    "print(l1[-1]+l2[-1]+l3[-1]+l4[-1]+l5[-1]+l6[-1]+l7[-1]+l8[-1]+l9[-1])"
   ]
  },
  {
   "cell_type": "markdown",
   "id": "1ebe886e-560c-413b-8a82-7529a8ee500f",
   "metadata": {},
   "source": [
    "## Day 6"
   ]
  },
  {
   "cell_type": "code",
   "execution_count": 191,
   "id": "2c183595-6023-4532-8ca7-b767e4e9b8ff",
   "metadata": {},
   "outputs": [
    {
     "name": "stdout",
     "output_type": "stream",
     "text": [
      "1953\n"
     ]
    }
   ],
   "source": [
    "signal =[]\n",
    "with open('/cluster/nrsw_lab/2392267/Data/AdventCodeCalendar/Signal.txt','r') as file:\n",
    "    for line in file:\n",
    "        signal.append(line.replace(\"\\n\", \"\"))\n",
    "        \n",
    "for x in range(len(signal[0])):\n",
    "    packet = signal[0][x-4:x]\n",
    "    occurence = []\n",
    "    for i in packet:\n",
    "        occurence.append(packet.count(i))\n",
    "    \n",
    "    if sum(occurence) == 4:\n",
    "        print(x)\n",
    "        break"
   ]
  },
  {
   "cell_type": "code",
   "execution_count": 192,
   "id": "5a7e819f-e738-4bca-8ec7-742ba8ca705f",
   "metadata": {},
   "outputs": [
    {
     "name": "stdout",
     "output_type": "stream",
     "text": [
      "2301\n"
     ]
    }
   ],
   "source": [
    "for x in range(len(signal[0])):\n",
    "    packet = signal[0][x-14:x]\n",
    "    occurence = []\n",
    "    for i in packet:\n",
    "        occurence.append(packet.count(i))\n",
    "    \n",
    "    if sum(occurence) == 14:\n",
    "        print(x)\n",
    "        break\n"
   ]
  },
  {
   "cell_type": "markdown",
   "id": "b48d2d66-8e61-4b90-bb60-0b2813d15583",
   "metadata": {},
   "source": [
    "## Day 7"
   ]
  },
  {
   "cell_type": "code",
   "execution_count": null,
   "id": "b8c3947e-b56a-4543-8ebb-7f2bc12debd7",
   "metadata": {},
   "outputs": [],
   "source": []
  },
  {
   "cell_type": "code",
   "execution_count": null,
   "id": "fc93ef36-bd5b-4e5a-ab7a-d80e706576f7",
   "metadata": {},
   "outputs": [],
   "source": []
  },
  {
   "cell_type": "code",
   "execution_count": null,
   "id": "e487b95f-3336-4aa8-8a8e-77260363d09e",
   "metadata": {},
   "outputs": [],
   "source": []
  },
  {
   "cell_type": "code",
   "execution_count": null,
   "id": "5b023a84-5cf4-4ec9-bce4-0d56ea972dac",
   "metadata": {},
   "outputs": [],
   "source": []
  },
  {
   "cell_type": "code",
   "execution_count": null,
   "id": "80979ed4-7d69-4d8f-84f2-bf14244b9011",
   "metadata": {},
   "outputs": [],
   "source": []
  },
  {
   "cell_type": "code",
   "execution_count": null,
   "id": "7535e1e8-f017-4b43-ab22-cf00924ed710",
   "metadata": {},
   "outputs": [],
   "source": []
  },
  {
   "cell_type": "code",
   "execution_count": null,
   "id": "a0b494f9-2e89-4076-80ca-383387b06c57",
   "metadata": {},
   "outputs": [],
   "source": []
  },
  {
   "cell_type": "code",
   "execution_count": null,
   "id": "abcd9a6b-ba1c-4faf-a7b6-a46b826bd981",
   "metadata": {},
   "outputs": [],
   "source": []
  },
  {
   "cell_type": "code",
   "execution_count": null,
   "id": "770fcd7f-334a-4ea7-844a-29350f00427d",
   "metadata": {},
   "outputs": [],
   "source": []
  },
  {
   "cell_type": "code",
   "execution_count": null,
   "id": "2e85208c-fd17-4097-9d48-d222097d14b6",
   "metadata": {},
   "outputs": [],
   "source": []
  },
  {
   "cell_type": "code",
   "execution_count": null,
   "id": "e48e14e1-4029-4db3-95ac-c2d77b3a3457",
   "metadata": {},
   "outputs": [],
   "source": []
  },
  {
   "cell_type": "code",
   "execution_count": null,
   "id": "04264d20-2aff-4d49-8b14-5fa72f8d33c5",
   "metadata": {},
   "outputs": [],
   "source": []
  },
  {
   "cell_type": "code",
   "execution_count": null,
   "id": "6c760eb4-8bdd-43f3-af59-3e4182389d58",
   "metadata": {},
   "outputs": [],
   "source": []
  },
  {
   "cell_type": "code",
   "execution_count": null,
   "id": "ab8c934b-03e2-4892-8196-6a1e7d9cdb98",
   "metadata": {},
   "outputs": [],
   "source": []
  },
  {
   "cell_type": "code",
   "execution_count": null,
   "id": "59fd1748-b86b-4d60-8c21-77f92e3159f5",
   "metadata": {},
   "outputs": [],
   "source": []
  },
  {
   "cell_type": "code",
   "execution_count": null,
   "id": "efdedefe-e8ab-4fa9-8901-868bbb8e37e9",
   "metadata": {},
   "outputs": [],
   "source": []
  },
  {
   "cell_type": "code",
   "execution_count": null,
   "id": "662fbdf9-11d8-48e9-88e8-80ee88f3df56",
   "metadata": {},
   "outputs": [],
   "source": []
  },
  {
   "cell_type": "code",
   "execution_count": null,
   "id": "c97c2104-089d-41ec-aa39-6fecb5570daa",
   "metadata": {},
   "outputs": [],
   "source": []
  },
  {
   "cell_type": "code",
   "execution_count": null,
   "id": "82d97cc1-bf2a-4469-ab04-8d567ff7f626",
   "metadata": {},
   "outputs": [],
   "source": []
  },
  {
   "cell_type": "code",
   "execution_count": null,
   "id": "5fe45d06-7c16-40a3-8e05-4c8d85d5128c",
   "metadata": {},
   "outputs": [],
   "source": []
  },
  {
   "cell_type": "code",
   "execution_count": null,
   "id": "9f2d7ffc-6298-494f-8033-88941f0581c6",
   "metadata": {},
   "outputs": [],
   "source": []
  },
  {
   "cell_type": "code",
   "execution_count": null,
   "id": "79d56335-b7d0-44f1-9115-79697a69d1c7",
   "metadata": {},
   "outputs": [],
   "source": []
  },
  {
   "cell_type": "code",
   "execution_count": null,
   "id": "60fe146b-7870-4ae8-990b-0ccf942c8b1a",
   "metadata": {},
   "outputs": [],
   "source": []
  },
  {
   "cell_type": "code",
   "execution_count": null,
   "id": "bd3f4e93-bc0d-4267-a15b-d02e076453cc",
   "metadata": {},
   "outputs": [],
   "source": []
  },
  {
   "cell_type": "code",
   "execution_count": null,
   "id": "84c16ea0-b743-4b8b-ac67-9731f8e22965",
   "metadata": {},
   "outputs": [],
   "source": []
  },
  {
   "cell_type": "code",
   "execution_count": null,
   "id": "3005a593-f4c0-4716-b4ae-54848796b4cc",
   "metadata": {},
   "outputs": [],
   "source": []
  },
  {
   "cell_type": "code",
   "execution_count": null,
   "id": "7b7393a6-0acb-4650-bdb0-41cf986789a3",
   "metadata": {},
   "outputs": [],
   "source": []
  },
  {
   "cell_type": "code",
   "execution_count": null,
   "id": "3a388a67-1961-4541-b2e2-e2d321d8cbc9",
   "metadata": {},
   "outputs": [],
   "source": []
  },
  {
   "cell_type": "code",
   "execution_count": null,
   "id": "e6f04a2c-2449-4898-b61a-bfd456bb96ab",
   "metadata": {},
   "outputs": [],
   "source": []
  },
  {
   "cell_type": "code",
   "execution_count": null,
   "id": "25f5f9c4-800c-4547-a9bb-e5b708241e90",
   "metadata": {},
   "outputs": [],
   "source": []
  },
  {
   "cell_type": "code",
   "execution_count": null,
   "id": "54082011-e960-4137-a179-b7fa2eb8123e",
   "metadata": {},
   "outputs": [],
   "source": []
  },
  {
   "cell_type": "code",
   "execution_count": null,
   "id": "fadcaf30-aa03-4062-977b-216ad33ee582",
   "metadata": {},
   "outputs": [],
   "source": []
  },
  {
   "cell_type": "code",
   "execution_count": null,
   "id": "06f6fe46-5dc9-4d78-bd7f-bdb6d6b0c0ae",
   "metadata": {},
   "outputs": [],
   "source": []
  },
  {
   "cell_type": "code",
   "execution_count": null,
   "id": "47d15b56-82aa-4d1a-bba8-75e37697b00e",
   "metadata": {},
   "outputs": [],
   "source": []
  },
  {
   "cell_type": "code",
   "execution_count": null,
   "id": "e169e4b4-5e48-461d-9ac0-139208e29e83",
   "metadata": {},
   "outputs": [],
   "source": []
  },
  {
   "cell_type": "code",
   "execution_count": null,
   "id": "8eb7b60b-099d-43a7-98a5-93d1f4974076",
   "metadata": {},
   "outputs": [],
   "source": []
  },
  {
   "cell_type": "code",
   "execution_count": null,
   "id": "212dd1b6-5483-4d73-b321-32a12edab4dd",
   "metadata": {},
   "outputs": [],
   "source": []
  },
  {
   "cell_type": "code",
   "execution_count": null,
   "id": "e3d7fa46-aa80-470d-9da4-bda257fa8cab",
   "metadata": {},
   "outputs": [],
   "source": []
  },
  {
   "cell_type": "code",
   "execution_count": null,
   "id": "787d7539-2f47-4f5c-9004-77fd60dace8f",
   "metadata": {},
   "outputs": [],
   "source": []
  },
  {
   "cell_type": "code",
   "execution_count": null,
   "id": "b2a8353e-1433-470d-85ee-48ac40b37f4f",
   "metadata": {},
   "outputs": [],
   "source": []
  },
  {
   "cell_type": "code",
   "execution_count": null,
   "id": "27f1e8fe-8370-4ee2-a46e-f112668ce2f5",
   "metadata": {},
   "outputs": [],
   "source": []
  }
 ],
 "metadata": {
  "kernelspec": {
   "display_name": "Python [conda env:conda-my_env]",
   "language": "python",
   "name": "conda-env-conda-my_env-py"
  },
  "language_info": {
   "codemirror_mode": {
    "name": "ipython",
    "version": 3
   },
   "file_extension": ".py",
   "mimetype": "text/x-python",
   "name": "python",
   "nbconvert_exporter": "python",
   "pygments_lexer": "ipython3",
   "version": "3.9.7"
  }
 },
 "nbformat": 4,
 "nbformat_minor": 5
}
